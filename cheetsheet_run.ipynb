{
 "cells": [
  {
   "cell_type": "code",
   "id": "initial_id",
   "metadata": {
    "collapsed": true,
    "jupyter": {
     "is_executing": true
    }
   },
   "source": [
    "a = 1\n",
    "a +=2\n",
    "a -=2\n",
    "a **=2\n",
    "a"
   ],
   "outputs": [],
   "execution_count": null
  },
  {
   "cell_type": "markdown",
   "source": [
    "# String"
   ],
   "metadata": {
    "collapsed": false
   },
   "id": "d21da63f1c9deaf7"
  },
  {
   "cell_type": "code",
   "execution_count": 9,
   "source": [
    "len(\"test\")"
   ],
   "metadata": {
    "collapsed": false,
    "ExecuteTime": {
     "end_time": "2024-04-29T03:00:24.073074800Z",
     "start_time": "2024-04-29T03:00:24.041455400Z"
    }
   },
   "id": "cd98dc93eb07cb1e",
   "outputs": []
  },
  {
   "cell_type": "code",
   "execution_count": 10,
   "source": [
    "ord('L')"
   ],
   "metadata": {
    "collapsed": false,
    "ExecuteTime": {
     "end_time": "2024-04-29T03:00:49.184322400Z",
     "start_time": "2024-04-29T03:00:49.146178300Z"
    }
   },
   "id": "7a1be20fe82abb14",
   "outputs": []
  },
  {
   "cell_type": "code",
   "execution_count": 13,
   "source": [
    "\"test\".index(\"e\")"
   ],
   "metadata": {
    "collapsed": false,
    "ExecuteTime": {
     "end_time": "2024-04-29T03:01:18.154486400Z",
     "start_time": "2024-04-29T03:01:18.092358800Z"
    }
   },
   "id": "2c5074f516096001",
   "outputs": []
  },
  {
   "cell_type": "code",
   "execution_count": 14,
   "source": [
    "\"test\".count(\"t\")"
   ],
   "metadata": {
    "collapsed": false,
    "ExecuteTime": {
     "end_time": "2024-04-29T03:01:31.148002700Z",
     "start_time": "2024-04-29T03:01:31.110747500Z"
    }
   },
   "id": "d473df68d0424152",
   "outputs": []
  },
  {
   "cell_type": "code",
   "execution_count": 15,
   "source": [
    "list(\"test\")"
   ],
   "metadata": {
    "collapsed": false,
    "ExecuteTime": {
     "end_time": "2024-04-29T03:01:39.524718600Z",
     "start_time": "2024-04-29T03:01:39.497686600Z"
    }
   },
   "id": "d6fd44375e8377e8",
   "outputs": []
  },
  {
   "cell_type": "code",
   "execution_count": 16,
   "source": [
    "\"test\".startswith(\"te\")"
   ],
   "metadata": {
    "collapsed": false,
    "ExecuteTime": {
     "end_time": "2024-04-29T03:01:52.850037200Z",
     "start_time": "2024-04-29T03:01:52.820857500Z"
    }
   },
   "id": "889e5f65566b7d52",
   "outputs": []
  },
  {
   "cell_type": "code",
   "execution_count": 18,
   "source": [
    "\"test\".find(\"t\")"
   ],
   "metadata": {
    "collapsed": false,
    "ExecuteTime": {
     "end_time": "2024-04-29T03:02:11.185915700Z",
     "start_time": "2024-04-29T03:02:11.137678100Z"
    }
   },
   "id": "7a118fda3d2c1ab8",
   "outputs": []
  },
  {
   "cell_type": "code",
   "execution_count": 19,
   "source": [
    "\"test\".isalnum()"
   ],
   "metadata": {
    "collapsed": false,
    "ExecuteTime": {
     "end_time": "2024-04-29T03:02:25.545817300Z",
     "start_time": "2024-04-29T03:02:25.510672800Z"
    }
   },
   "id": "d01d24bb6b89fcb2",
   "outputs": []
  },
  {
   "cell_type": "code",
   "execution_count": 20,
   "source": [
    "\"test\".isalpha()"
   ],
   "metadata": {
    "collapsed": false,
    "ExecuteTime": {
     "end_time": "2024-04-29T03:02:38.500096400Z",
     "start_time": "2024-04-29T03:02:38.466548800Z"
    }
   },
   "id": "992a7eb79e0d40aa",
   "outputs": []
  },
  {
   "cell_type": "code",
   "execution_count": 22,
   "source": [
    "\".\".join([\"a\",\"b\",\"c\"])"
   ],
   "metadata": {
    "collapsed": false,
    "ExecuteTime": {
     "end_time": "2024-04-29T03:03:17.864561Z",
     "start_time": "2024-04-29T03:03:17.831052600Z"
    }
   },
   "id": "bbc1eca756d4ca0",
   "outputs": []
  },
  {
   "cell_type": "code",
   "execution_count": 23,
   "source": [
    "\"this is a test\".split()"
   ],
   "metadata": {
    "collapsed": false,
    "ExecuteTime": {
     "end_time": "2024-04-29T03:03:40.207225300Z",
     "start_time": "2024-04-29T03:03:40.155614200Z"
    }
   },
   "id": "30b3eab9d6b0dc64",
   "outputs": []
  },
  {
   "cell_type": "code",
   "execution_count": 24,
   "source": [
    "\"x b c\".find('b')"
   ],
   "metadata": {
    "collapsed": false,
    "ExecuteTime": {
     "end_time": "2024-04-29T03:03:59.026472200Z",
     "start_time": "2024-04-29T03:03:58.993756200Z"
    }
   },
   "id": "484be8e5f103a035",
   "outputs": []
  },
  {
   "cell_type": "markdown",
   "source": [
    "Type conversion"
   ],
   "metadata": {
    "collapsed": false
   },
   "id": "d3315c0d72146170"
  },
  {
   "cell_type": "code",
   "execution_count": 25,
   "source": [
    "int(\"10\")"
   ],
   "metadata": {
    "collapsed": false,
    "ExecuteTime": {
     "end_time": "2024-04-29T03:06:16.707277800Z",
     "start_time": "2024-04-29T03:06:16.656987800Z"
    }
   },
   "id": "e486f4c33039394a",
   "outputs": []
  },
  {
   "cell_type": "code",
   "execution_count": 26,
   "source": [
    "float(\"10.1\")"
   ],
   "metadata": {
    "collapsed": false,
    "ExecuteTime": {
     "end_time": "2024-04-29T03:06:24.844334800Z",
     "start_time": "2024-04-29T03:06:24.811515300Z"
    }
   },
   "id": "101d46a9fa3a2bc0",
   "outputs": []
  },
  {
   "cell_type": "code",
   "execution_count": 27,
   "source": [
    "list(\"abc\")"
   ],
   "metadata": {
    "collapsed": false,
    "ExecuteTime": {
     "end_time": "2024-04-29T03:06:34.041798300Z",
     "start_time": "2024-04-29T03:06:34.006757200Z"
    }
   },
   "id": "416eef7c0b60c59",
   "outputs": []
  },
  {
   "cell_type": "code",
   "execution_count": 28,
   "source": [
    "set(\"abcddgghh\")"
   ],
   "metadata": {
    "collapsed": false,
    "ExecuteTime": {
     "end_time": "2024-04-29T03:06:45.599683500Z",
     "start_time": "2024-04-29T03:06:45.568148100Z"
    }
   },
   "id": "824b106f2ba79938",
   "outputs": []
  },
  {
   "cell_type": "markdown",
   "source": [
    "# List"
   ],
   "metadata": {
    "collapsed": false
   },
   "id": "8784e969a82457f3"
  },
  {
   "cell_type": "code",
   "execution_count": 29,
   "source": [
    "list_data=[1,2,3]"
   ],
   "metadata": {
    "collapsed": false,
    "ExecuteTime": {
     "end_time": "2024-04-29T03:16:01.180978Z",
     "start_time": "2024-04-29T03:16:01.152469300Z"
    }
   },
   "id": "a1adfac98a1e6c11",
   "outputs": []
  },
  {
   "cell_type": "code",
   "execution_count": 30,
   "source": [
    "len(list_data)"
   ],
   "metadata": {
    "collapsed": false,
    "ExecuteTime": {
     "end_time": "2024-04-29T03:16:23.267508400Z",
     "start_time": "2024-04-29T03:16:23.239504900Z"
    }
   },
   "id": "925831ee7b2cfb39",
   "outputs": []
  },
  {
   "cell_type": "code",
   "execution_count": 32,
   "source": [
    "list_data.append(4)\n",
    "list_data"
   ],
   "metadata": {
    "collapsed": false,
    "ExecuteTime": {
     "end_time": "2024-04-29T03:16:38.933085Z",
     "start_time": "2024-04-29T03:16:38.900601Z"
    }
   },
   "id": "dd11d77413a3fd9c",
   "outputs": []
  },
  {
   "cell_type": "code",
   "execution_count": 33,
   "source": [
    "del list_data[0]\n",
    "list_data"
   ],
   "metadata": {
    "collapsed": false,
    "ExecuteTime": {
     "end_time": "2024-04-29T03:16:53.412411700Z",
     "start_time": "2024-04-29T03:16:53.379510Z"
    }
   },
   "id": "ba585ab49c0f7d14",
   "outputs": []
  },
  {
   "cell_type": "code",
   "execution_count": 34,
   "source": [
    "list_data[:1]"
   ],
   "metadata": {
    "collapsed": false,
    "ExecuteTime": {
     "end_time": "2024-04-29T03:17:07.710247400Z",
     "start_time": "2024-04-29T03:17:07.672239100Z"
    }
   },
   "id": "388b2aba30ea244",
   "outputs": []
  },
  {
   "cell_type": "code",
   "execution_count": 35,
   "source": [
    "list_data[:-1]"
   ],
   "metadata": {
    "collapsed": false,
    "ExecuteTime": {
     "end_time": "2024-04-29T03:17:16.188458Z",
     "start_time": "2024-04-29T03:17:16.126246700Z"
    }
   },
   "id": "2b021ab2d56464e6",
   "outputs": []
  },
  {
   "cell_type": "code",
   "execution_count": 38,
   "source": [
    "list_data.append(1)\n",
    "list_data.append(20)\n",
    "list_data.append(4)\n",
    "list_data.sort()\n",
    "list_data"
   ],
   "metadata": {
    "collapsed": false,
    "ExecuteTime": {
     "end_time": "2024-04-29T03:18:06.121767400Z",
     "start_time": "2024-04-29T03:18:06.090027600Z"
    }
   },
   "id": "31b18a67ec2c8c41",
   "outputs": []
  },
  {
   "cell_type": "code",
   "execution_count": 40,
   "source": [
    "list_data.append(2)\n",
    "list_data=sorted(list_data)\n",
    "list_data"
   ],
   "metadata": {
    "collapsed": false,
    "ExecuteTime": {
     "end_time": "2024-04-29T03:18:37.640090300Z",
     "start_time": "2024-04-29T03:18:37.600365100Z"
    }
   },
   "id": "38476375871980db",
   "outputs": []
  },
  {
   "cell_type": "code",
   "execution_count": 41,
   "source": [
    "list_data = sorted(list_data,reverse=True)\n",
    "list_data"
   ],
   "metadata": {
    "collapsed": false,
    "ExecuteTime": {
     "end_time": "2024-04-29T03:19:00.813536100Z",
     "start_time": "2024-04-29T03:19:00.782535500Z"
    }
   },
   "id": "483b2135fea45a25",
   "outputs": []
  },
  {
   "cell_type": "code",
   "execution_count": 42,
   "source": [
    "max(list_data)"
   ],
   "metadata": {
    "collapsed": false,
    "ExecuteTime": {
     "end_time": "2024-04-29T03:19:09.053026700Z",
     "start_time": "2024-04-29T03:19:08.995278500Z"
    }
   },
   "id": "36ed9685c0dbdd93",
   "outputs": []
  },
  {
   "cell_type": "code",
   "execution_count": 43,
   "source": [
    "for x in list_data:\n",
    "    print(x)"
   ],
   "metadata": {
    "collapsed": false,
    "ExecuteTime": {
     "end_time": "2024-04-29T03:19:24.111696200Z",
     "start_time": "2024-04-29T03:19:24.081438600Z"
    }
   },
   "id": "df6563c669fea23e",
   "outputs": []
  },
  {
   "cell_type": "code",
   "execution_count": 44,
   "source": [
    "for i,x in enumerate(list_data):\n",
    "    print(i,x)"
   ],
   "metadata": {
    "collapsed": false,
    "ExecuteTime": {
     "end_time": "2024-04-29T03:20:00.156600500Z",
     "start_time": "2024-04-29T03:20:00.118601600Z"
    }
   },
   "id": "50bb83d25bd8495",
   "outputs": []
  },
  {
   "cell_type": "code",
   "execution_count": 55,
   "source": [
    "class Person:\n",
    "    def __init__(self,age,name):\n",
    "        self.age=age\n",
    "        self.name = name\n",
    "    \n",
    "    def __str__(self):\n",
    "        return self.name\n",
    "    \n",
    "    def __repr__(self):\n",
    "        return f\"{self.name}/{self.age}\"\n",
    "        \n",
    "person_list = [Person(10,\"tomer\"),Person(33,\"sagi\"),Person(52,\"xxxx\"),Person(52,\"aggar\"),Person(52,\"boba\")]\n",
    "person_list = sorted(person_list,key=lambda x:(x.age,x.name))\n",
    "person_list"
   ],
   "metadata": {
    "collapsed": false,
    "ExecuteTime": {
     "end_time": "2024-04-29T03:25:40.612957500Z",
     "start_time": "2024-04-29T03:25:40.603961300Z"
    }
   },
   "id": "905bc37f3ed14db",
   "outputs": []
  },
  {
   "cell_type": "code",
   "execution_count": 56,
   "source": [
    "less_than_50 = [x for x in person_list if x.age<50]\n",
    "less_than_50"
   ],
   "metadata": {
    "collapsed": false,
    "ExecuteTime": {
     "end_time": "2024-04-29T03:26:49.402183Z",
     "start_time": "2024-04-29T03:26:49.330364900Z"
    }
   },
   "id": "a902b99cb0bbf23b",
   "outputs": []
  },
  {
   "cell_type": "markdown",
   "source": [
    "2D Array    "
   ],
   "metadata": {
    "collapsed": false
   },
   "id": "b779e26597c18de7"
  },
  {
   "cell_type": "code",
   "execution_count": 57,
   "source": [
    "(rows,cols) = (5,5)\n",
    "arr =[[0]*cols]*rows\n",
    "arr"
   ],
   "metadata": {
    "collapsed": false,
    "ExecuteTime": {
     "end_time": "2024-04-29T04:25:13.938064900Z",
     "start_time": "2024-04-29T04:25:13.905538400Z"
    }
   },
   "id": "974e3db32371c191",
   "outputs": []
  },
  {
   "cell_type": "code",
   "execution_count": null,
   "source": [],
   "metadata": {
    "collapsed": false
   },
   "id": "a108745476563fe2",
   "outputs": []
  },
  {
   "cell_type": "markdown",
   "source": [
    "Hash"
   ],
   "metadata": {
    "collapsed": false
   },
   "id": "638b9913082db2f2"
  },
  {
   "cell_type": "code",
   "execution_count": 58,
   "source": [
    "H = {\"a\":1,\"b\":2,\"c\":3}\n",
    "H"
   ],
   "metadata": {
    "collapsed": false,
    "ExecuteTime": {
     "end_time": "2024-04-29T04:34:56.082912400Z",
     "start_time": "2024-04-29T04:34:56.047912900Z"
    }
   },
   "id": "bd0c2ecf73f3e09e",
   "outputs": []
  },
  {
   "cell_type": "code",
   "execution_count": 59,
   "source": [
    "H[\"a\"]"
   ],
   "metadata": {
    "collapsed": false,
    "ExecuteTime": {
     "end_time": "2024-04-29T04:35:04.676458600Z",
     "start_time": "2024-04-29T04:35:04.614425100Z"
    }
   },
   "id": "1b182d529ed03646",
   "outputs": []
  },
  {
   "cell_type": "code",
   "execution_count": 60,
   "source": [
    "del H[\"a\"]\n",
    "H"
   ],
   "metadata": {
    "collapsed": false,
    "ExecuteTime": {
     "end_time": "2024-04-29T04:35:16.378416600Z",
     "start_time": "2024-04-29T04:35:16.342412300Z"
    }
   },
   "id": "2b7681bce083d40",
   "outputs": []
  },
  {
   "cell_type": "code",
   "execution_count": 62,
   "source": [
    "for k in H.keys():\n",
    "    print(H[k])"
   ],
   "metadata": {
    "collapsed": false,
    "ExecuteTime": {
     "end_time": "2024-04-29T04:35:46.338774400Z",
     "start_time": "2024-04-29T04:35:46.306773900Z"
    }
   },
   "id": "6e65c5c1ad4528fc",
   "outputs": []
  },
  {
   "cell_type": "code",
   "execution_count": 63,
   "source": [
    "H.setdefault(\"s\",2)"
   ],
   "metadata": {
    "collapsed": false,
    "ExecuteTime": {
     "end_time": "2024-04-29T04:36:11.575278800Z",
     "start_time": "2024-04-29T04:36:11.540278300Z"
    }
   },
   "id": "883cb35b5916fae1",
   "outputs": []
  },
  {
   "cell_type": "code",
   "execution_count": 64,
   "source": [
    "H"
   ],
   "metadata": {
    "collapsed": false,
    "ExecuteTime": {
     "end_time": "2024-04-29T04:36:15.516468Z",
     "start_time": "2024-04-29T04:36:15.483803300Z"
    }
   },
   "id": "664e831aa9ea1133",
   "outputs": []
  },
  {
   "cell_type": "markdown",
   "source": [
    "Default Dict"
   ],
   "metadata": {
    "collapsed": false
   },
   "id": "ba4e2fb1fed8df9c"
  },
  {
   "cell_type": "code",
   "execution_count": 65,
   "source": [
    "from collections import defaultdict\n",
    "\n",
    "words_count=defaultdict(int)\n",
    "print(words_count[\"w\"])"
   ],
   "metadata": {
    "collapsed": false,
    "ExecuteTime": {
     "end_time": "2024-04-29T04:37:04.927685500Z",
     "start_time": "2024-04-29T04:37:04.891685300Z"
    }
   },
   "id": "e74ad052b66690f9",
   "outputs": []
  },
  {
   "cell_type": "markdown",
   "source": [
    "# Counter"
   ],
   "metadata": {
    "collapsed": false
   },
   "id": "88b18763743f256b"
  },
  {
   "cell_type": "code",
   "execution_count": 72,
   "source": [
    "from collections import Counter\n",
    "\n",
    "c = Counter()\n",
    "c[\"a\"] += 1\n",
    "c\n",
    "c[\"a\"] += 1\n",
    "c\n",
    "\n",
    "c[\"b\"] += 1\n",
    "c"
   ],
   "metadata": {
    "collapsed": false,
    "ExecuteTime": {
     "end_time": "2024-04-29T04:44:36.025690500Z",
     "start_time": "2024-04-29T04:44:35.982688900Z"
    }
   },
   "id": "a7d479fe20aa883d",
   "outputs": []
  },
  {
   "cell_type": "markdown",
   "source": [
    "# Dequeue"
   ],
   "metadata": {
    "collapsed": false
   },
   "id": "26332a5c2d2bb46a"
  },
  {
   "cell_type": "code",
   "execution_count": 78,
   "source": [
    "from collections import deque\n",
    "\n",
    "dq = deque()\n",
    "dq.append(\"1\")\n",
    "dq.append(\"2\")\n",
    "dq\n",
    "dq.appendleft(\"20\")\n",
    "dq\n",
    "dq.popleft()\n",
    "dq\n",
    "dq.appendleft(\"20\")\n",
    "dq\n",
    "dq.pop()\n",
    "dq\n",
    "\n"
   ],
   "metadata": {
    "collapsed": false,
    "ExecuteTime": {
     "end_time": "2024-04-29T04:47:55.965166300Z",
     "start_time": "2024-04-29T04:47:55.929177400Z"
    }
   },
   "id": "44b8be566e77d5fe",
   "outputs": []
  },
  {
   "cell_type": "markdown",
   "source": [
    "# File system"
   ],
   "metadata": {
    "collapsed": false
   },
   "id": "baa4b19f9000d4cb"
  },
  {
   "cell_type": "code",
   "execution_count": 79,
   "source": [
    "import os\n",
    "os.mkdir(\"test_dir\")"
   ],
   "metadata": {
    "collapsed": false,
    "ExecuteTime": {
     "end_time": "2024-04-29T04:48:54.421763Z",
     "start_time": "2024-04-29T04:48:54.385253500Z"
    }
   },
   "id": "5b7ef98125d88c2d",
   "outputs": []
  },
  {
   "cell_type": "code",
   "execution_count": 80,
   "source": [
    "os.makedirs(\"test_dir/a/b/c\")"
   ],
   "metadata": {
    "collapsed": false,
    "ExecuteTime": {
     "end_time": "2024-04-29T04:49:18.734841400Z",
     "start_time": "2024-04-29T04:49:18.643293100Z"
    }
   },
   "id": "d2574a3a95decb80",
   "outputs": []
  },
  {
   "cell_type": "code",
   "execution_count": null,
   "source": [],
   "metadata": {
    "collapsed": false
   },
   "id": "762fd8ba548c3134",
   "outputs": []
  },
  {
   "cell_type": "code",
   "execution_count": null,
   "source": [],
   "metadata": {
    "collapsed": false
   },
   "id": "ad6d642a48f7d94b",
   "outputs": []
  },
  {
   "cell_type": "code",
   "execution_count": null,
   "source": [],
   "metadata": {
    "collapsed": false
   },
   "id": "daded859d8e0c33b",
   "outputs": []
  },
  {
   "cell_type": "code",
   "execution_count": null,
   "source": [],
   "metadata": {
    "collapsed": false
   },
   "id": "b0986be295f6273d",
   "outputs": []
  },
  {
   "cell_type": "code",
   "execution_count": null,
   "source": [],
   "metadata": {
    "collapsed": false
   },
   "id": "f6d2932cf6ef6aa5",
   "outputs": []
  },
  {
   "cell_type": "code",
   "execution_count": null,
   "source": [],
   "metadata": {
    "collapsed": false
   },
   "id": "d2c9c737b1578864",
   "outputs": []
  }
 ],
 "metadata": {
  "kernelspec": {
   "display_name": "Python 3",
   "language": "python",
   "name": "python3"
  },
  "language_info": {
   "codemirror_mode": {
    "name": "ipython",
    "version": 2
   },
   "file_extension": ".py",
   "mimetype": "text/x-python",
   "name": "python",
   "nbconvert_exporter": "python",
   "pygments_lexer": "ipython2",
   "version": "2.7.6"
  }
 },
 "nbformat": 4,
 "nbformat_minor": 5
}

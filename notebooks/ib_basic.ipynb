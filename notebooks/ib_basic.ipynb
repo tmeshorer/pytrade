{
 "cells": [
  {
   "cell_type": "code",
   "execution_count": 27,
   "id": "initial_id",
   "metadata": {
    "collapsed": true,
    "ExecuteTime": {
     "end_time": "2024-05-03T04:10:34.669789400Z",
     "start_time": "2024-05-03T04:10:31.056881300Z"
    }
   },
   "source": [
    "#!pip install ib_insync\n",
    "#!pip install matplotlib\n",
    "#!pip install --upgrade pandas\n",
    "!pip install tzlocal==2.1"
   ],
   "outputs": []
  },
  {
   "cell_type": "code",
   "execution_count": 3,
   "source": [
    "import ib_insync\n",
    "print(ib_insync.__all__)"
   ],
   "metadata": {
    "collapsed": false,
    "ExecuteTime": {
     "end_time": "2024-05-03T03:47:14.797720Z",
     "start_time": "2024-05-03T03:47:13.970481Z"
    }
   },
   "id": "589f8fd2d10133e8",
   "outputs": []
  },
  {
   "cell_type": "code",
   "execution_count": 4,
   "source": [
    "from ib_insync import *\n",
    "util.startLoop()"
   ],
   "metadata": {
    "collapsed": false,
    "ExecuteTime": {
     "end_time": "2024-05-03T03:47:26.248365200Z",
     "start_time": "2024-05-03T03:47:26.177522700Z"
    }
   },
   "id": "314228cae634d187",
   "outputs": []
  },
  {
   "cell_type": "code",
   "execution_count": 7,
   "source": [
    "ib = IB()\n",
    "ib.connect('127.0.0.1', 7496, clientId=10)"
   ],
   "metadata": {
    "collapsed": false,
    "ExecuteTime": {
     "end_time": "2024-05-03T03:53:05.827281500Z",
     "start_time": "2024-05-03T03:53:01.710748800Z"
    }
   },
   "id": "2278ea61637e4dfa",
   "outputs": []
  },
  {
   "cell_type": "code",
   "execution_count": 8,
   "source": [
    "ib.positions()"
   ],
   "metadata": {
    "collapsed": false,
    "ExecuteTime": {
     "end_time": "2024-05-03T03:53:43.572891400Z",
     "start_time": "2024-05-03T03:53:43.473600300Z"
    }
   },
   "id": "4acf061cc94104a",
   "outputs": []
  },
  {
   "cell_type": "code",
   "execution_count": 9,
   "source": [
    "[v for v in ib.accountValues() if v.tag == 'NetLiquidationByCurrency' and v.currency == 'BASE']"
   ],
   "metadata": {
    "collapsed": false,
    "ExecuteTime": {
     "end_time": "2024-05-03T03:54:00.403241100Z",
     "start_time": "2024-05-03T03:54:00.327898400Z"
    }
   },
   "id": "d08615efd1f6ec80",
   "outputs": []
  },
  {
   "cell_type": "code",
   "execution_count": 10,
   "source": [
    "contract = Stock('TSLA', 'SMART', 'USD')\n",
    "ib.reqContractDetails(contract)"
   ],
   "metadata": {
    "collapsed": false,
    "ExecuteTime": {
     "end_time": "2024-05-03T03:54:35.486451900Z",
     "start_time": "2024-05-03T03:54:35.254997100Z"
    }
   },
   "id": "11282db1f2cc1530",
   "outputs": []
  },
  {
   "cell_type": "code",
   "execution_count": 11,
   "source": [
    "contract = Stock('TSLA', 'SMART', 'USD')\n",
    "\n",
    "ib.reqHeadTimeStamp(contract, whatToShow='TRADES', useRTH=True)"
   ],
   "metadata": {
    "collapsed": false,
    "ExecuteTime": {
     "end_time": "2024-05-03T03:56:48.292128100Z",
     "start_time": "2024-05-03T03:56:48.075180800Z"
    }
   },
   "id": "f0106b0b1ff053e2",
   "outputs": []
  },
  {
   "cell_type": "code",
   "execution_count": 29,
   "source": [
    "bars = ib.reqHistoricalData(\n",
    "        contract,\n",
    "        endDateTime='',\n",
    "        durationStr='60 D',\n",
    "        barSizeSetting='1 hour',\n",
    "        whatToShow='TRADES',\n",
    "        useRTH=True,\n",
    "        formatDate=1)"
   ],
   "metadata": {
    "collapsed": false,
    "ExecuteTime": {
     "end_time": "2024-05-03T04:11:01.101061700Z",
     "start_time": "2024-05-03T04:11:00.831728900Z"
    }
   },
   "id": "8688eb6d8b4a1ad9",
   "outputs": []
  },
  {
   "cell_type": "code",
   "execution_count": 30,
   "source": [
    "util.df(bars)"
   ],
   "metadata": {
    "collapsed": false,
    "ExecuteTime": {
     "end_time": "2024-05-03T04:11:04.165162400Z",
     "start_time": "2024-05-03T04:11:03.808737300Z"
    }
   },
   "id": "7cf0c6f14144bafe",
   "outputs": []
  },
  {
   "cell_type": "code",
   "execution_count": 31,
   "source": [
    "bars[0]\n"
   ],
   "metadata": {
    "collapsed": false,
    "ExecuteTime": {
     "end_time": "2024-05-03T04:11:23.769821200Z",
     "start_time": "2024-05-03T04:11:23.713095900Z"
    }
   },
   "id": "b30dba54728ad31f",
   "outputs": []
  },
  {
   "cell_type": "code",
   "execution_count": 33,
   "source": [
    "bars[100]"
   ],
   "metadata": {
    "collapsed": false,
    "ExecuteTime": {
     "end_time": "2024-05-03T04:12:06.168696400Z",
     "start_time": "2024-05-03T04:12:06.120819700Z"
    }
   },
   "id": "5a3b99bf40e272c9",
   "outputs": []
  },
  {
   "cell_type": "code",
   "execution_count": 35,
   "source": [
    "print(bars[100].__all__)"
   ],
   "metadata": {
    "collapsed": false,
    "ExecuteTime": {
     "end_time": "2024-05-03T04:14:16.958633700Z",
     "start_time": "2024-05-03T04:14:16.877330400Z"
    }
   },
   "id": "305a7c71fde8b24f",
   "outputs": []
  },
  {
   "cell_type": "code",
   "execution_count": null,
   "source": [],
   "metadata": {
    "collapsed": false
   },
   "id": "7504cee71b9d8994",
   "outputs": []
  }
 ],
 "metadata": {
  "kernelspec": {
   "display_name": "Python 3",
   "language": "python",
   "name": "python3"
  },
  "language_info": {
   "codemirror_mode": {
    "name": "ipython",
    "version": 2
   },
   "file_extension": ".py",
   "mimetype": "text/x-python",
   "name": "python",
   "nbconvert_exporter": "python",
   "pygments_lexer": "ipython2",
   "version": "2.7.6"
  }
 },
 "nbformat": 4,
 "nbformat_minor": 5
}

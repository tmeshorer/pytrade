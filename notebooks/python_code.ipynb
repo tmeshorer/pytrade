{
 "cells": [
  {
   "cell_type": "code",
   "id": "initial_id",
   "metadata": {
    "collapsed": true,
    "ExecuteTime": {
     "end_time": "2024-07-07T23:15:41.948030Z",
     "start_time": "2024-07-07T23:15:41.937982Z"
    }
   },
   "source": "len('string')",
   "execution_count": 1,
   "outputs": []
  },
  {
   "metadata": {
    "ExecuteTime": {
     "end_time": "2024-07-07T23:16:27.003647Z",
     "start_time": "2024-07-07T23:16:27.000462Z"
    }
   },
   "cell_type": "code",
   "source": [
    "if True:\n",
    "    print(\"True\")"
   ],
   "id": "d6ef6b1c976df212",
   "execution_count": 2,
   "outputs": []
  },
  {
   "metadata": {
    "ExecuteTime": {
     "end_time": "2024-07-07T23:16:41.992974Z",
     "start_time": "2024-07-07T23:16:41.988645Z"
    }
   },
   "cell_type": "code",
   "source": "int(10)",
   "id": "4c30b3ae96b9d20d",
   "execution_count": 3,
   "outputs": []
  },
  {
   "metadata": {
    "ExecuteTime": {
     "end_time": "2024-07-07T23:16:54.124503Z",
     "start_time": "2024-07-07T23:16:54.120421Z"
    }
   },
   "cell_type": "code",
   "source": "float(\"10.2\")",
   "id": "fc3ac0889cd3d5c3",
   "execution_count": 4,
   "outputs": []
  },
  {
   "metadata": {
    "ExecuteTime": {
     "end_time": "2024-07-07T23:17:02.813840Z",
     "start_time": "2024-07-07T23:17:02.809905Z"
    }
   },
   "cell_type": "code",
   "source": "str(\"2\")",
   "id": "9cbe0ce85c6d0b0f",
   "execution_count": 5,
   "outputs": []
  },
  {
   "metadata": {
    "ExecuteTime": {
     "end_time": "2024-07-07T23:17:08.617731Z",
     "start_time": "2024-07-07T23:17:08.613782Z"
    }
   },
   "cell_type": "code",
   "source": "str(2)",
   "id": "66ec98e4139b0f06",
   "execution_count": 6,
   "outputs": []
  },
  {
   "metadata": {
    "ExecuteTime": {
     "end_time": "2024-07-07T23:17:22.409093Z",
     "start_time": "2024-07-07T23:17:22.404842Z"
    }
   },
   "cell_type": "code",
   "source": "list(\"abc\")",
   "id": "f97d5967b54b916a",
   "execution_count": 7,
   "outputs": []
  },
  {
   "metadata": {
    "ExecuteTime": {
     "end_time": "2024-07-07T23:18:09.979654Z",
     "start_time": "2024-07-07T23:18:09.975513Z"
    }
   },
   "cell_type": "code",
   "source": "set([\"a\",\"b\",\"c\"])",
   "id": "c1368be638a60d5c",
   "execution_count": 8,
   "outputs": []
  },
  {
   "metadata": {
    "ExecuteTime": {
     "end_time": "2024-07-07T23:20:47.768150Z",
     "start_time": "2024-07-07T23:20:47.764587Z"
    }
   },
   "cell_type": "code",
   "source": [
    "x = [1,2,3,4]\n",
    "for i in x:\n",
    "    print(i)"
   ],
   "id": "1d672bcf682fd321",
   "execution_count": 11,
   "outputs": []
  },
  {
   "metadata": {},
   "cell_type": "code",
   "execution_count": null,
   "source": "1D List",
   "id": "e7e055891b1e88ed",
   "outputs": []
  },
  {
   "metadata": {
    "ExecuteTime": {
     "end_time": "2024-07-07T23:21:23.831515Z",
     "start_time": "2024-07-07T23:21:23.828512Z"
    }
   },
   "cell_type": "code",
   "source": "list_data = []",
   "id": "2741bde4827e4c9a",
   "execution_count": 12,
   "outputs": []
  },
  {
   "metadata": {
    "ExecuteTime": {
     "end_time": "2024-07-07T23:21:35.332132Z",
     "start_time": "2024-07-07T23:21:35.327577Z"
    }
   },
   "cell_type": "code",
   "source": "len(list_data)",
   "id": "1b46056f1f0938cc",
   "execution_count": 13,
   "outputs": []
  },
  {
   "metadata": {
    "ExecuteTime": {
     "end_time": "2024-07-07T23:41:22.838706Z",
     "start_time": "2024-07-07T23:41:22.834427Z"
    }
   },
   "cell_type": "code",
   "source": [
    "list_data.append(1)\n",
    "list_data"
   ],
   "id": "9be8176aca88252d",
   "execution_count": 14,
   "outputs": []
  },
  {
   "metadata": {
    "ExecuteTime": {
     "end_time": "2024-07-07T23:41:38.691293Z",
     "start_time": "2024-07-07T23:41:38.687164Z"
    }
   },
   "cell_type": "code",
   "source": [
    "list_data.append(2)\n",
    "list_data"
   ],
   "id": "452d5fd995b76c60",
   "execution_count": 15,
   "outputs": []
  },
  {
   "metadata": {
    "ExecuteTime": {
     "end_time": "2024-07-07T23:41:56.197749Z",
     "start_time": "2024-07-07T23:41:56.193702Z"
    }
   },
   "cell_type": "code",
   "source": [
    "del list_data[0]\n",
    "list_data"
   ],
   "id": "d916b3bd8af2712f",
   "execution_count": 16,
   "outputs": []
  },
  {
   "metadata": {
    "ExecuteTime": {
     "end_time": "2024-07-07T23:42:25.152172Z",
     "start_time": "2024-07-07T23:42:25.147897Z"
    }
   },
   "cell_type": "code",
   "source": [
    "list_data=[1,33,3,2]\n",
    "list_data.sort()\n",
    "list_data"
   ],
   "id": "20e32eaa675ea4f4",
   "execution_count": 17,
   "outputs": []
  },
  {
   "metadata": {
    "ExecuteTime": {
     "end_time": "2024-07-07T23:42:51.839176Z",
     "start_time": "2024-07-07T23:42:51.834919Z"
    }
   },
   "cell_type": "code",
   "source": [
    "list_data.sort(reverse=True)\n",
    "list_data"
   ],
   "id": "98b2b1886e2a8eb7",
   "execution_count": 18,
   "outputs": []
  },
  {
   "metadata": {
    "ExecuteTime": {
     "end_time": "2024-07-07T23:43:02.105695Z",
     "start_time": "2024-07-07T23:43:02.101452Z"
    }
   },
   "cell_type": "code",
   "source": "max(list_data)",
   "id": "7d26cac60870ce52",
   "execution_count": 19,
   "outputs": []
  },
  {
   "metadata": {
    "ExecuteTime": {
     "end_time": "2024-07-07T23:43:09.187213Z",
     "start_time": "2024-07-07T23:43:09.182786Z"
    }
   },
   "cell_type": "code",
   "source": "min(list_data)",
   "id": "12008904814572d0",
   "execution_count": 20,
   "outputs": []
  },
  {
   "metadata": {
    "ExecuteTime": {
     "end_time": "2024-07-07T23:43:28.912607Z",
     "start_time": "2024-07-07T23:43:28.908379Z"
    }
   },
   "cell_type": "code",
   "source": [
    "for v in list_data:\n",
    "    print(v)"
   ],
   "id": "2e800741c658aa83",
   "execution_count": 21,
   "outputs": []
  },
  {
   "metadata": {
    "ExecuteTime": {
     "end_time": "2024-07-07T23:43:56.467558Z",
     "start_time": "2024-07-07T23:43:56.463972Z"
    }
   },
   "cell_type": "code",
   "source": [
    "for i,v in enumerate(list_data):\n",
    "    print(i,v)"
   ],
   "id": "2462f94c2d4ec4ba",
   "execution_count": 22,
   "outputs": []
  },
  {
   "metadata": {
    "ExecuteTime": {
     "end_time": "2024-07-07T23:44:37.943156Z",
     "start_time": "2024-07-07T23:44:37.938569Z"
    }
   },
   "cell_type": "code",
   "source": [
    "even =[x for x in list_data if x%2==0]\n",
    "even"
   ],
   "id": "b8a5794f5603b3c1",
   "execution_count": 24,
   "outputs": []
  },
  {
   "metadata": {},
   "cell_type": "code",
   "execution_count": null,
   "source": "dict",
   "id": "3d8408e549a8cb13",
   "outputs": []
  },
  {
   "metadata": {
    "ExecuteTime": {
     "end_time": "2024-07-08T00:31:29.362754Z",
     "start_time": "2024-07-08T00:31:29.359690Z"
    }
   },
   "cell_type": "code",
   "source": "D= {'a':1,'b':2,'c':3}\n",
   "id": "a42fb984bf77f00",
   "execution_count": 26,
   "outputs": []
  },
  {
   "metadata": {
    "ExecuteTime": {
     "end_time": "2024-07-08T00:31:31.769107Z",
     "start_time": "2024-07-08T00:31:31.762698Z"
    }
   },
   "cell_type": "code",
   "source": "D['a']",
   "id": "9cc752f41a73c877",
   "execution_count": 27,
   "outputs": []
  },
  {
   "metadata": {
    "ExecuteTime": {
     "end_time": "2024-07-08T00:31:40.212234Z",
     "start_time": "2024-07-08T00:31:40.207902Z"
    }
   },
   "cell_type": "code",
   "source": "len(D)",
   "id": "bf3f7a1c50c92671",
   "execution_count": 28,
   "outputs": []
  },
  {
   "metadata": {
    "ExecuteTime": {
     "end_time": "2024-07-08T00:32:04.436254Z",
     "start_time": "2024-07-08T00:32:04.423758Z"
    }
   },
   "cell_type": "code",
   "source": "del D['a']\n",
   "id": "fc923d30ba136891",
   "execution_count": 30,
   "outputs": []
  },
  {
   "metadata": {
    "ExecuteTime": {
     "end_time": "2024-07-08T00:32:12.539738Z",
     "start_time": "2024-07-08T00:32:12.535788Z"
    }
   },
   "cell_type": "code",
   "source": "D",
   "id": "7447d9b875a8aee0",
   "execution_count": 31,
   "outputs": []
  },
  {
   "metadata": {
    "ExecuteTime": {
     "end_time": "2024-07-08T00:32:27.048093Z",
     "start_time": "2024-07-08T00:32:27.044682Z"
    }
   },
   "cell_type": "code",
   "source": [
    "for x in D.keys():\n",
    "    print(x)"
   ],
   "id": "f1b603dfd0d89b33",
   "execution_count": 32,
   "outputs": []
  },
  {
   "metadata": {
    "ExecuteTime": {
     "end_time": "2024-07-08T00:32:45.060863Z",
     "start_time": "2024-07-08T00:32:45.057622Z"
    }
   },
   "cell_type": "code",
   "source": [
    "for v in D.values():\n",
    "    print(v)"
   ],
   "id": "6156e5d6049cbafb",
   "execution_count": 33,
   "outputs": []
  },
  {
   "metadata": {
    "ExecuteTime": {
     "end_time": "2024-07-08T00:33:15.506151Z",
     "start_time": "2024-07-08T00:33:15.502773Z"
    }
   },
   "cell_type": "code",
   "source": [
    "for x,y in D.items():\n",
    "    print (x,y)"
   ],
   "id": "82b23564849973a4",
   "execution_count": 34,
   "outputs": []
  },
  {
   "metadata": {
    "ExecuteTime": {
     "end_time": "2024-07-08T00:35:20.380357Z",
     "start_time": "2024-07-08T00:35:20.375789Z"
    }
   },
   "cell_type": "code",
   "source": [
    "from collections import Counter\n",
    "c = Counter(['a','b','c','a','b'])\n",
    "c['a']\n"
   ],
   "id": "758be886f7bb1133",
   "execution_count": 39,
   "outputs": []
  },
  {
   "metadata": {
    "ExecuteTime": {
     "end_time": "2024-07-08T00:38:59.896959Z",
     "start_time": "2024-07-08T00:38:59.892936Z"
    }
   },
   "cell_type": "code",
   "source": [
    "from collections import deque\n",
    "\n",
    "a = deque()\n",
    "a.append(1)\n",
    "a "
   ],
   "id": "2a7a1a60be375de6",
   "execution_count": 40,
   "outputs": []
  },
  {
   "metadata": {
    "ExecuteTime": {
     "end_time": "2024-07-08T00:39:11.993473Z",
     "start_time": "2024-07-08T00:39:11.989525Z"
    }
   },
   "cell_type": "code",
   "source": [
    "a.pop()\n",
    "a"
   ],
   "id": "161dd067297d6cd9",
   "execution_count": 41,
   "outputs": []
  },
  {
   "metadata": {
    "ExecuteTime": {
     "end_time": "2024-07-08T00:41:21.124016Z",
     "start_time": "2024-07-08T00:41:21.120077Z"
    }
   },
   "cell_type": "code",
   "source": [
    "q = deque()\n",
    "q.appendleft(1)\n",
    "q.appendleft(2)\n",
    "\n"
   ],
   "id": "af94cd905e345260",
   "execution_count": 42,
   "outputs": []
  },
  {
   "metadata": {
    "ExecuteTime": {
     "end_time": "2024-07-08T00:41:26.904029Z",
     "start_time": "2024-07-08T00:41:26.899799Z"
    }
   },
   "cell_type": "code",
   "source": "q",
   "id": "1d63ae3ce9c0d82",
   "execution_count": 43,
   "outputs": []
  },
  {
   "metadata": {
    "ExecuteTime": {
     "end_time": "2024-07-08T00:41:39.285285Z",
     "start_time": "2024-07-08T00:41:39.281050Z"
    }
   },
   "cell_type": "code",
   "source": [
    "x = q.pop()\n",
    "x"
   ],
   "id": "cd225417c8c5b8a4",
   "execution_count": 44,
   "outputs": []
  },
  {
   "metadata": {
    "ExecuteTime": {
     "end_time": "2024-07-08T01:02:08.177242Z",
     "start_time": "2024-07-08T01:02:08.173878Z"
    }
   },
   "cell_type": "code",
   "source": [
    "class Student(object):\n",
    "    def __init__(self, name, age):\n",
    "        self.name = name\n",
    "        self.age = age \n",
    "    \n",
    "    def grow(self):\n",
    "        self.age += 10\n"
   ],
   "id": "1d064203d232257f",
   "execution_count": 48,
   "outputs": []
  },
  {
   "metadata": {
    "ExecuteTime": {
     "end_time": "2024-07-08T01:02:10.497312Z",
     "start_time": "2024-07-08T01:02:10.494077Z"
    }
   },
   "cell_type": "code",
   "source": [
    "x = Student(\"tomer\",70)\n",
    "y = Student(\"jhon\",80)\n"
   ],
   "id": "4155878b0f4020f4",
   "execution_count": 49,
   "outputs": []
  },
  {
   "metadata": {
    "ExecuteTime": {
     "end_time": "2024-07-08T01:02:13.645463Z",
     "start_time": "2024-07-08T01:02:13.641013Z"
    }
   },
   "cell_type": "code",
   "source": "x.age",
   "id": "603f059922623a55",
   "execution_count": 50,
   "outputs": []
  },
  {
   "metadata": {
    "ExecuteTime": {
     "end_time": "2024-07-08T01:02:15.453016Z",
     "start_time": "2024-07-08T01:02:15.448671Z"
    }
   },
   "cell_type": "code",
   "source": [
    "x.grow()\n",
    "x.age"
   ],
   "id": "b43847684e8fa437",
   "execution_count": 51,
   "outputs": []
  },
  {
   "metadata": {},
   "cell_type": "code",
   "execution_count": null,
   "source": "Set",
   "id": "88c3df6e8fbe1c1e",
   "outputs": []
  },
  {
   "metadata": {
    "ExecuteTime": {
     "end_time": "2024-07-08T01:24:03.681911Z",
     "start_time": "2024-07-08T01:24:03.676993Z"
    }
   },
   "cell_type": "code",
   "source": [
    "ids = set()\n",
    "ids.add(123)\n",
    "ids"
   ],
   "id": "bad281ab52950436",
   "execution_count": 52,
   "outputs": []
  },
  {
   "metadata": {
    "ExecuteTime": {
     "end_time": "2024-07-08T01:24:35.214958Z",
     "start_time": "2024-07-08T01:24:35.211449Z"
    }
   },
   "cell_type": "code",
   "source": [
    "ids.add(1)\n",
    "ids.add(2)\n",
    "ids.add(5)"
   ],
   "id": "8494d116a2431df7",
   "execution_count": 53,
   "outputs": []
  },
  {
   "metadata": {
    "ExecuteTime": {
     "end_time": "2024-07-08T01:24:40.108327Z",
     "start_time": "2024-07-08T01:24:40.103957Z"
    }
   },
   "cell_type": "code",
   "source": "ids",
   "id": "b5770e1408dfc23e",
   "execution_count": 54,
   "outputs": []
  },
  {
   "metadata": {
    "ExecuteTime": {
     "end_time": "2024-07-08T01:24:53.305669Z",
     "start_time": "2024-07-08T01:24:53.301463Z"
    }
   },
   "cell_type": "code",
   "source": "1 in ids",
   "id": "85e9e963fb9a82a0",
   "execution_count": 55,
   "outputs": []
  },
  {
   "metadata": {
    "ExecuteTime": {
     "end_time": "2024-07-08T01:25:59.843794Z",
     "start_time": "2024-07-08T01:25:59.838323Z"
    }
   },
   "cell_type": "code",
   "source": [
    "set1 = {1,2,3,4}\n",
    "set2 = {10,2,3}\n",
    "u = set1 & set2\n",
    "u"
   ],
   "id": "a393cedeee5b8781",
   "execution_count": 56,
   "outputs": []
  },
  {
   "metadata": {
    "ExecuteTime": {
     "end_time": "2024-07-08T01:26:19.517021Z",
     "start_time": "2024-07-08T01:26:19.512721Z"
    }
   },
   "cell_type": "code",
   "source": [
    "diff = set1 - set2\n",
    "diff"
   ],
   "id": "ac25435110cc6f4c",
   "execution_count": 57,
   "outputs": []
  },
  {
   "metadata": {},
   "cell_type": "code",
   "execution_count": null,
   "source": "",
   "id": "2574429a4f1bde13",
   "outputs": []
  }
 ],
 "metadata": {
  "kernelspec": {
   "display_name": "Python 3",
   "language": "python",
   "name": "python3"
  },
  "language_info": {
   "codemirror_mode": {
    "name": "ipython",
    "version": 2
   },
   "file_extension": ".py",
   "mimetype": "text/x-python",
   "name": "python",
   "nbconvert_exporter": "python",
   "pygments_lexer": "ipython2",
   "version": "2.7.6"
  }
 },
 "nbformat": 4,
 "nbformat_minor": 5
}

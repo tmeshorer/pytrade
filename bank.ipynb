{
 "cells": [
  {
   "cell_type": "code",
   "execution_count": 1,
   "id": "initial_id",
   "metadata": {
    "collapsed": true,
    "ExecuteTime": {
     "end_time": "2024-04-30T13:32:49.067900300Z",
     "start_time": "2024-04-30T13:32:49.062899Z"
    }
   },
   "outputs": [],
   "source": [
    "class Money:\n",
    "    def __init__(self,amt,currency):\n",
    "        self.amt = amt\n",
    "        self.currency = currency\n",
    "    \n",
    "    def __eq__(self,other):\n",
    "        if other is None:\n",
    "            return False\n",
    "        if not isinstance(other,Money):\n",
    "            return False\n",
    "        return self.amt == other.amt and self.currency == other.currency\n",
    "    \n",
    "    def to_tuple(self):\n",
    "        return (self.amt,self.currency)\n",
    "    \n",
    "    def __add__(self,other):\n",
    "        return Money(self.amt+other.amt,self.currency)\n",
    "    \n",
    "    def __lt__(self,other):\n",
    "        return self.to_tuple() < other.to_tuple()\n",
    "    def __le__(self,other):\n",
    "        return self.to_tuple() <= other.to_tuple\n",
    "    "
   ]
  },
  {
   "cell_type": "code",
   "execution_count": null,
   "outputs": [],
   "source": [
    "class Tx:\n",
    "    def __init__(self,amt:Money):\n",
    "        self.amt = amt\n",
    "        \n",
    "\n",
    "class Account:\n",
    "    def __init__(self):\n",
    "        self.balance = Money(0,\"USD\")\n",
    "        self.transactions = []\n",
    "        \n",
    "    def deposit(self,amt:int):\n",
    "        tx = Tx(Money(amt,\"USD\"))\n",
    "        self.transactions.append(tx)\n",
    "    \n",
    "    def withraw(self,amt:int) :\n",
    "        tx = Tx(Money(-amt,\"USD\"))\n",
    "        self.transactions.append(tx)\n",
    "    \n",
    "    def balance(self) -> Money:\n",
    "        b = Money(0,\"USD\")\n",
    "        for x in self.transactions:\n",
    "            b = b + x.amt\n",
    "        return b\n",
    "    \n",
    "    def to_tuple(self):\n",
    "        return (len(self.transactions),self.name)\n",
    "    \n",
    "class Bank:\n",
    "    def __init__(self):\n",
    "        self.accounts = []\n",
    "    \n",
    "    def add_account(self,name):\n",
    "        self.accounts[name] = Account()\n",
    "        \n",
    "    def most_tx(self,N):\n",
    "        top = []\n",
    "        for x in self.accounts:\n",
    "            top.append(self.accounts[x].to_tuple())\n",
    "        top.sort()\n",
    "        top_n = top[:N]\n",
    "        \n",
    "        \n",
    "        \n",
    "        "
   ],
   "metadata": {
    "collapsed": false
   },
   "id": "2acaf253ae69921f"
  }
 ],
 "metadata": {
  "kernelspec": {
   "display_name": "Python 3",
   "language": "python",
   "name": "python3"
  },
  "language_info": {
   "codemirror_mode": {
    "name": "ipython",
    "version": 2
   },
   "file_extension": ".py",
   "mimetype": "text/x-python",
   "name": "python",
   "nbconvert_exporter": "python",
   "pygments_lexer": "ipython2",
   "version": "2.7.6"
  }
 },
 "nbformat": 4,
 "nbformat_minor": 5
}
